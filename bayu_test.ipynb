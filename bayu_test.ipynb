{
 "cells": [
  {
   "attachments": {},
   "cell_type": "markdown",
   "metadata": {},
   "source": [
    "*Step 1, Case 1, Python Test :*\n",
    "1. Buatkan program python menggunakan console input\n",
    "2. Program dapat menerima input apapun dari pengguna\n",
    "3. \"INALIX SOLUSI PRIMA\" itu adalah kata inisial yang harus di tampilkan jika user meng input semua huruf yg diperlukan\n",
    "4. Jika inputan yg diinput user tidak lengkap maka tampilkan hanya huruf yang diinput saja dan yg tidak diinputkan ooleh user diganti dengan BINTANG (*)\n",
    "5. 1 huruf yg diinput mewakili 1 output, contoh diatas ada 2 huruf \"A\" maka user harus mengiinput 2 huruf \"A\".\n",
    "6. Huruf terpakai harus dipakai dari awal kata.\n",
    "7. output program juga menampilkan huruf apa saja yg tidak terpakai pada kalimat tersebut\n",
    "8. Contoh penggunaan:\n",
    "  a) Input dari user: ABCDEFGHIJK\n",
    "     Output program:\n",
    "     terpakai: I*A*** ****** *****\n",
    "     tidak terpakai: BCDEFGHJK\n",
    "  b) Input dari user: AAIIUU\n",
    "     Output program:\n",
    "     terpakai: I*A*I* **U* ****A\n",
    "     tidak terpakai: U\n",
    "  c) Input dari user: INXSSAAAIIUU\n",
    "     Output program:\n",
    "     terpakai: INA*IX S**USI ****A\n",
    "     tidak terpakai: AU\n",
    "9. Rekam penggunaan program menggunakan Loom dan share linknya ke saya\n",
    "10. Jika ada pertanyaan langsung ditanyakan saja ya"
   ]
  },
  {
   "cell_type": "code",
   "execution_count": 1,
   "metadata": {},
   "outputs": [
    {
     "name": "stdout",
     "output_type": "stream",
     "text": [
      "Terpakai: I*A*I*****U*******A\n",
      "Tidak terpakai: U\n"
     ]
    }
   ],
   "source": [
    "def proses_input(user_input):\n",
    "    user_input = user_input.upper()\n",
    "    keyword = \"INALIX SOLUSI PRIMA\"\n",
    "    unused_string = \"\"\n",
    "    used_string = \"\"\n",
    "    used_letters = []\n",
    "    unused_letters = list(keyword)\n",
    "\n",
    "    for letter in user_input:\n",
    "        if letter in unused_letters:\n",
    "            used_letters.append(letter)\n",
    "            unused_letters.remove(letter)\n",
    "        else:\n",
    "            unused_string += letter\n",
    "\n",
    "    for letter in keyword:\n",
    "        if letter in used_letters:\n",
    "            used_string += letter\n",
    "            used_letters.remove(letter)\n",
    "        else:\n",
    "            used_string += \"*\"\n",
    "\n",
    "    return used_string, unused_string\n",
    "\n",
    "user_input = input(\"Masukkan input: \")\n",
    "used, unused = proses_input(user_input)\n",
    "print(\"Terpakai:\", used)\n",
    "print(\"Tidak terpakai:\", unused)\n"
   ]
  }
 ],
 "metadata": {
  "kernelspec": {
   "display_name": "Python 3",
   "language": "python",
   "name": "python3"
  },
  "language_info": {
   "codemirror_mode": {
    "name": "ipython",
    "version": 3
   },
   "file_extension": ".py",
   "mimetype": "text/x-python",
   "name": "python",
   "nbconvert_exporter": "python",
   "pygments_lexer": "ipython3",
   "version": "3.11.2"
  },
  "orig_nbformat": 4
 },
 "nbformat": 4,
 "nbformat_minor": 2
}
